{
  "nbformat": 4,
  "nbformat_minor": 0,
  "metadata": {
    "colab": {
      "provenance": []
    },
    "kernelspec": {
      "name": "python3",
      "display_name": "Python 3"
    },
    "language_info": {
      "name": "python"
    }
  },
  "cells": [
    {
      "cell_type": "markdown",
      "source": [
        "0. **Only keep French tweets**"
      ],
      "metadata": {
        "id": "OuP8yWoM-9JM"
      }
    },
    {
      "cell_type": "code",
      "source": [
        "from google.colab import drive\n",
        "drive.mount('/content/drive')"
      ],
      "metadata": {
        "colab": {
          "base_uri": "https://localhost:8080/"
        },
        "id": "-vjDBLH04EnD",
        "outputId": "ccc0e2a1-3788-42e4-b92e-45a8b11a633c"
      },
      "execution_count": null,
      "outputs": [
        {
          "output_type": "stream",
          "name": "stdout",
          "text": [
            "Mounted at /content/drive\n"
          ]
        }
      ]
    },
    {
      "cell_type": "code",
      "source": [
        "# Only keep French tweets\n",
        "!pip install -q langdetect\n",
        "from langdetect import detect, DetectorFactory\n",
        "DetectorFactory.seed = 42  # Make results deterministic"
      ],
      "metadata": {
        "id": "4d3DdT3rGdvf",
        "colab": {
          "base_uri": "https://localhost:8080/"
        },
        "outputId": "7025ed18-fda8-45d7-ad86-2111c455f895"
      },
      "execution_count": null,
      "outputs": [
        {
          "output_type": "stream",
          "name": "stdout",
          "text": [
            "\u001b[?25l     \u001b[90m━━━━━━━━━━━━━━━━━━━━━━━━━━━━━━━━━━━━━━━━\u001b[0m \u001b[32m0.0/981.5 kB\u001b[0m \u001b[31m?\u001b[0m eta \u001b[36m-:--:--\u001b[0m\r\u001b[2K     \u001b[91m━━━━━━\u001b[0m\u001b[90m╺\u001b[0m\u001b[90m━━━━━━━━━━━━━━━━━━━━━━━━━━━━━━━━\u001b[0m \u001b[32m153.6/981.5 kB\u001b[0m \u001b[31m4.4 MB/s\u001b[0m eta \u001b[36m0:00:01\u001b[0m\r\u001b[2K     \u001b[91m━━━━━━━━━━━━━━━━━━━━━━━━━━━━━━\u001b[0m\u001b[91m╸\u001b[0m\u001b[90m━━━━━━━\u001b[0m \u001b[32m788.5/981.5 kB\u001b[0m \u001b[31m10.7 MB/s\u001b[0m eta \u001b[36m0:00:01\u001b[0m\r\u001b[2K     \u001b[90m━━━━━━━━━━━━━━━━━━━━━━━━━━━━━━━━━━━━━━━\u001b[0m \u001b[32m981.5/981.5 kB\u001b[0m \u001b[31m9.8 MB/s\u001b[0m eta \u001b[36m0:00:00\u001b[0m\n",
            "\u001b[?25h  Preparing metadata (setup.py) ... \u001b[?25l\u001b[?25hdone\n",
            "  Building wheel for langdetect (setup.py) ... \u001b[?25l\u001b[?25hdone\n"
          ]
        }
      ]
    },
    {
      "cell_type": "code",
      "source": [
        "def is_french_langdetect(text):\n",
        "    try:\n",
        "        return detect(str(text)) == 'fr'\n",
        "    except:\n",
        "        return False  # Skip unrecognizable text"
      ],
      "metadata": {
        "id": "tTvEeCtcIkkl"
      },
      "execution_count": null,
      "outputs": []
    },
    {
      "cell_type": "code",
      "source": [
        "import pandas as pd\n",
        "\n",
        "# Set file path\n",
        "file_path = '/content/drive/My Drive/_thesis_dogwhistles/Clean-tweets/new_left_10462.csv'\n",
        "\n",
        "# Load CSV and ensure 'id' is string\n",
        "df = pd.read_csv(file_path, dtype={'id': str})\n",
        "df = df.dropna(subset=['content'])\n",
        "\n",
        "# Count before\n",
        "total_before = len(df)\n",
        "\n",
        "# Filter French tweets using langdetect\n",
        "df_fr = df[df['content'].apply(is_french_langdetect)].reset_index(drop=True)\n",
        "\n",
        "# Count after\n",
        "total_after = len(df_fr)\n",
        "removed = total_before - total_after\n",
        "percentage_removed = (removed / total_before) * 100\n",
        "\n",
        "# Show summary\n",
        "print(f\"Total tweets before filtering: {total_before}\")\n",
        "print(f\"Total tweets after filtering: {total_after}\")\n",
        "print(f\"Tweets removed: {removed} ({percentage_removed:.2f}%)\")\n",
        "\n",
        "# Show sample\n",
        "if len(df_fr) > 0:\n",
        "    print(\"\\nSample of 5 French tweets:\")\n",
        "    print(df_fr['content'].sample(5, random_state=42).to_string(index=False))\n",
        "else:\n",
        "    print(\"⚠️ No French tweets detected.\")\n",
        "\n",
        "# Save result\n",
        "output_path = '/content/drive/My Drive/_thesis_dogwhistles/Clean-tweets/left-new-french-tweets.csv'\n",
        "df_fr.to_csv(output_path, index=False)\n",
        "print(f\"\\n✅ French tweets saved to: {output_path}\")"
      ],
      "metadata": {
        "colab": {
          "base_uri": "https://localhost:8080/"
        },
        "id": "oj_8rXjkI0Af",
        "outputId": "064d45aa-f9b4-4f32-8f66-a2cef46472ac"
      },
      "execution_count": null,
      "outputs": [
        {
          "output_type": "stream",
          "name": "stdout",
          "text": [
            "Total tweets before filtering: 100635\n",
            "Total tweets after filtering: 73793\n",
            "Tweets removed: 26842 (26.67%)\n",
            "\n",
            "Sample of 5 French tweets:\n",
            "         @Perrette56 Merci beaucoup c'est gentil 😘\n",
            "Adios le \"spécialiste des penaltys\" ...🤡\\n#Merc...\n",
            "@ArSaint_Martin @EmilieHaon Un grand nombre de ...\n",
            "    @RemikenzoPages tout ça c’est grâce à l’AJAR😝🩷\n",
            "             #QuelleEpoque https://t.co/kaV5QSKBYS\n",
            "\n",
            "✅ French tweets saved to: /content/drive/My Drive/_thesis_dogwhistles/Clean-tweets/left-new-french-tweets.csv\n"
          ]
        }
      ]
    },
    {
      "cell_type": "markdown",
      "source": [
        "1. Define function"
      ],
      "metadata": {
        "id": "P11LqNcG-KT1"
      }
    },
    {
      "cell_type": "markdown",
      "source": [
        "\n",
        "* Remove URLs\n",
        "* Remove @usernames\n",
        "* Remove leading #\n",
        "* Normalize whitespace\n",
        "* Lowercase\n",
        "* Save clean CSV"
      ],
      "metadata": {
        "id": "3YGzSnzA907z"
      }
    },
    {
      "cell_type": "code",
      "source": [
        "import pandas as pd\n",
        "import re\n",
        "\n",
        "def clean_text(text):\n",
        "    text = str(text)\n",
        "    text = re.sub(r'http\\S+|www\\S+|https\\S+', '', text)          # Remove URLs\n",
        "    text = re.sub(r'@\\w+', '', text)                             # Remove @usernames\n",
        "    text = re.sub(r'#(\\w+)', r'\\1', text)                        # Remove leading #\n",
        "    text = re.sub(r'\\s+', ' ', text).strip()                     # Normalize whitespace\n",
        "    text = text.lower()                                          # Lowercase text\n",
        "\n",
        "    # Normalize reduplications\n",
        "    for pattern, replacement in reduplications.items():\n",
        "        text = re.sub(pattern, replacement, text)\n",
        "\n",
        "    # Standardize abbreviations\n",
        "    for pattern, replacement in abbreviations.items():\n",
        "        text = re.sub(pattern, replacement, text)\n",
        "\n",
        "    return text\n",
        "\n",
        "def clean_tweets(input_path, output_path):\n",
        "    # Load CSV\n",
        "    df = pd.read_csv(input_path, dtype={'id': str})\n",
        "\n",
        "    # Remove rows where 'content' is missing\n",
        "    df = df.dropna(subset=['content'])\n",
        "\n",
        "    # Apply cleaning function\n",
        "    df['content'] = df['content'].apply(clean_text)\n",
        "\n",
        "    # Remove empty content rows again\n",
        "    df = df[df['content'].str.strip() != '']\n",
        "\n",
        "    # Output info\n",
        "    print(f\"Remaining rows: {len(df)}\")\n",
        "    total_tokens = df['content'].str.split().str.len().sum()\n",
        "    print(f\"Total number of tokens: {total_tokens}\")\n",
        "\n",
        "    # Save cleaned file\n",
        "    df.to_csv(output_path, index=False)\n",
        "\n",
        "    return df"
      ],
      "metadata": {
        "id": "dzO9bOtg8JMM"
      },
      "execution_count": null,
      "outputs": []
    },
    {
      "cell_type": "markdown",
      "source": [
        "2. Call function"
      ],
      "metadata": {
        "id": "nmLgAbjQ-Rx3"
      }
    },
    {
      "cell_type": "code",
      "source": [
        "# 🧹 Run your existing cleaning function\n",
        "cleaned_df = clean_tweets('/content/drive/My Drive/_thesis_dogwhistles/Clean-tweets/left-new-french-tweets.csv', '/content/drive/My Drive/_thesis_dogwhistles/Clean-tweets/left-new-cleaned-french-tweets.csv') # output file will still be in /content"
      ],
      "metadata": {
        "colab": {
          "base_uri": "https://localhost:8080/"
        },
        "id": "78-_0ybQ33jd",
        "outputId": "bc5421c5-b37c-4ae3-f3b8-1c28299553d9"
      },
      "execution_count": null,
      "outputs": [
        {
          "output_type": "stream",
          "name": "stdout",
          "text": [
            "Remaining rows: 73363\n",
            "Total number of tokens: 1478776\n"
          ]
        }
      ]
    },
    {
      "cell_type": "markdown",
      "source": [
        "3. Check at random if everything's okay"
      ],
      "metadata": {
        "id": "IlLJFFmt-Q9a"
      }
    },
    {
      "cell_type": "code",
      "source": [
        "# inspect random samples\n",
        "\n",
        "import pandas as pd\n",
        "\n",
        "# Load the final cleaned file\n",
        "df = pd.read_csv('/content/drive/My Drive/_thesis_dogwhistles/Clean-tweets/left-new-cleaned-french-tweets.csv', dtype={'id': str})\n",
        "\n",
        "# Check basic info\n",
        "print(f\"Loaded {df.shape[0]} tweets.\")\n",
        "print(\"Column names:\", df.columns.tolist())\n",
        "\n",
        "# Show 5 random tweets\n",
        "df.sample(5, random_state=645)"
      ],
      "metadata": {
        "colab": {
          "base_uri": "https://localhost:8080/",
          "height": 328
        },
        "id": "oAqz5r2U2jaE",
        "outputId": "99986614-80c1-497b-c229-00f1d663b71f"
      },
      "execution_count": null,
      "outputs": [
        {
          "output_type": "stream",
          "name": "stdout",
          "text": [
            "Loaded 73363 tweets.\n",
            "Column names: ['id', 'username', 'content', 'created_at', 'has_photo', 'has_video', 'is_response']\n"
          ]
        },
        {
          "output_type": "execute_result",
          "data": {
            "text/plain": [
              "                        id        username  \\\n",
              "40520  1922360567337017841          naovic   \n",
              "7620   1914032513820787174       sbr_colin   \n",
              "46860  1808918253340590258      david73490   \n",
              "18542  1921146354799087666  brion_isabelle   \n",
              "30469  1845577278652096856    danielladu35   \n",
              "\n",
              "                                                 content  \\\n",
              "40520  pourquoi tu la suit t’es masochiste. et en plu...   \n",
              "7620   si moueffek pouvait être régulier. si seulemen...   \n",
              "46860                vous nagez vraiment en plein délire   \n",
              "18542  comment va carotte ? et comment va son binôme ...   \n",
              "30469  l’hypocrisie de ce mode de vie marketé sur les...   \n",
              "\n",
              "                      created_at  has_photo  has_video  is_response  \n",
              "40520  2025-05-13 18:37:29+00:00      False      False         True  \n",
              "7620   2025-04-20 19:04:46+00:00      False      False        False  \n",
              "46860  2024-07-04 17:38:14+00:00      False      False         True  \n",
              "18542  2025-05-10 10:12:38+00:00      False      False         True  \n",
              "30469  2024-10-13 21:28:07+00:00      False      False        False  "
            ],
            "text/html": [
              "\n",
              "  <div id=\"df-80d77a33-364f-4df3-9afd-b94cac5ae3b3\" class=\"colab-df-container\">\n",
              "    <div>\n",
              "<style scoped>\n",
              "    .dataframe tbody tr th:only-of-type {\n",
              "        vertical-align: middle;\n",
              "    }\n",
              "\n",
              "    .dataframe tbody tr th {\n",
              "        vertical-align: top;\n",
              "    }\n",
              "\n",
              "    .dataframe thead th {\n",
              "        text-align: right;\n",
              "    }\n",
              "</style>\n",
              "<table border=\"1\" class=\"dataframe\">\n",
              "  <thead>\n",
              "    <tr style=\"text-align: right;\">\n",
              "      <th></th>\n",
              "      <th>id</th>\n",
              "      <th>username</th>\n",
              "      <th>content</th>\n",
              "      <th>created_at</th>\n",
              "      <th>has_photo</th>\n",
              "      <th>has_video</th>\n",
              "      <th>is_response</th>\n",
              "    </tr>\n",
              "  </thead>\n",
              "  <tbody>\n",
              "    <tr>\n",
              "      <th>40520</th>\n",
              "      <td>1922360567337017841</td>\n",
              "      <td>naovic</td>\n",
              "      <td>pourquoi tu la suit t’es masochiste. et en plu...</td>\n",
              "      <td>2025-05-13 18:37:29+00:00</td>\n",
              "      <td>False</td>\n",
              "      <td>False</td>\n",
              "      <td>True</td>\n",
              "    </tr>\n",
              "    <tr>\n",
              "      <th>7620</th>\n",
              "      <td>1914032513820787174</td>\n",
              "      <td>sbr_colin</td>\n",
              "      <td>si moueffek pouvait être régulier. si seulemen...</td>\n",
              "      <td>2025-04-20 19:04:46+00:00</td>\n",
              "      <td>False</td>\n",
              "      <td>False</td>\n",
              "      <td>False</td>\n",
              "    </tr>\n",
              "    <tr>\n",
              "      <th>46860</th>\n",
              "      <td>1808918253340590258</td>\n",
              "      <td>david73490</td>\n",
              "      <td>vous nagez vraiment en plein délire</td>\n",
              "      <td>2024-07-04 17:38:14+00:00</td>\n",
              "      <td>False</td>\n",
              "      <td>False</td>\n",
              "      <td>True</td>\n",
              "    </tr>\n",
              "    <tr>\n",
              "      <th>18542</th>\n",
              "      <td>1921146354799087666</td>\n",
              "      <td>brion_isabelle</td>\n",
              "      <td>comment va carotte ? et comment va son binôme ...</td>\n",
              "      <td>2025-05-10 10:12:38+00:00</td>\n",
              "      <td>False</td>\n",
              "      <td>False</td>\n",
              "      <td>True</td>\n",
              "    </tr>\n",
              "    <tr>\n",
              "      <th>30469</th>\n",
              "      <td>1845577278652096856</td>\n",
              "      <td>danielladu35</td>\n",
              "      <td>l’hypocrisie de ce mode de vie marketé sur les...</td>\n",
              "      <td>2024-10-13 21:28:07+00:00</td>\n",
              "      <td>False</td>\n",
              "      <td>False</td>\n",
              "      <td>False</td>\n",
              "    </tr>\n",
              "  </tbody>\n",
              "</table>\n",
              "</div>\n",
              "    <div class=\"colab-df-buttons\">\n",
              "\n",
              "  <div class=\"colab-df-container\">\n",
              "    <button class=\"colab-df-convert\" onclick=\"convertToInteractive('df-80d77a33-364f-4df3-9afd-b94cac5ae3b3')\"\n",
              "            title=\"Convert this dataframe to an interactive table.\"\n",
              "            style=\"display:none;\">\n",
              "\n",
              "  <svg xmlns=\"http://www.w3.org/2000/svg\" height=\"24px\" viewBox=\"0 -960 960 960\">\n",
              "    <path d=\"M120-120v-720h720v720H120Zm60-500h600v-160H180v160Zm220 220h160v-160H400v160Zm0 220h160v-160H400v160ZM180-400h160v-160H180v160Zm440 0h160v-160H620v160ZM180-180h160v-160H180v160Zm440 0h160v-160H620v160Z\"/>\n",
              "  </svg>\n",
              "    </button>\n",
              "\n",
              "  <style>\n",
              "    .colab-df-container {\n",
              "      display:flex;\n",
              "      gap: 12px;\n",
              "    }\n",
              "\n",
              "    .colab-df-convert {\n",
              "      background-color: #E8F0FE;\n",
              "      border: none;\n",
              "      border-radius: 50%;\n",
              "      cursor: pointer;\n",
              "      display: none;\n",
              "      fill: #1967D2;\n",
              "      height: 32px;\n",
              "      padding: 0 0 0 0;\n",
              "      width: 32px;\n",
              "    }\n",
              "\n",
              "    .colab-df-convert:hover {\n",
              "      background-color: #E2EBFA;\n",
              "      box-shadow: 0px 1px 2px rgba(60, 64, 67, 0.3), 0px 1px 3px 1px rgba(60, 64, 67, 0.15);\n",
              "      fill: #174EA6;\n",
              "    }\n",
              "\n",
              "    .colab-df-buttons div {\n",
              "      margin-bottom: 4px;\n",
              "    }\n",
              "\n",
              "    [theme=dark] .colab-df-convert {\n",
              "      background-color: #3B4455;\n",
              "      fill: #D2E3FC;\n",
              "    }\n",
              "\n",
              "    [theme=dark] .colab-df-convert:hover {\n",
              "      background-color: #434B5C;\n",
              "      box-shadow: 0px 1px 3px 1px rgba(0, 0, 0, 0.15);\n",
              "      filter: drop-shadow(0px 1px 2px rgba(0, 0, 0, 0.3));\n",
              "      fill: #FFFFFF;\n",
              "    }\n",
              "  </style>\n",
              "\n",
              "    <script>\n",
              "      const buttonEl =\n",
              "        document.querySelector('#df-80d77a33-364f-4df3-9afd-b94cac5ae3b3 button.colab-df-convert');\n",
              "      buttonEl.style.display =\n",
              "        google.colab.kernel.accessAllowed ? 'block' : 'none';\n",
              "\n",
              "      async function convertToInteractive(key) {\n",
              "        const element = document.querySelector('#df-80d77a33-364f-4df3-9afd-b94cac5ae3b3');\n",
              "        const dataTable =\n",
              "          await google.colab.kernel.invokeFunction('convertToInteractive',\n",
              "                                                    [key], {});\n",
              "        if (!dataTable) return;\n",
              "\n",
              "        const docLinkHtml = 'Like what you see? Visit the ' +\n",
              "          '<a target=\"_blank\" href=https://colab.research.google.com/notebooks/data_table.ipynb>data table notebook</a>'\n",
              "          + ' to learn more about interactive tables.';\n",
              "        element.innerHTML = '';\n",
              "        dataTable['output_type'] = 'display_data';\n",
              "        await google.colab.output.renderOutput(dataTable, element);\n",
              "        const docLink = document.createElement('div');\n",
              "        docLink.innerHTML = docLinkHtml;\n",
              "        element.appendChild(docLink);\n",
              "      }\n",
              "    </script>\n",
              "  </div>\n",
              "\n",
              "\n",
              "    <div id=\"df-379542fe-7bb9-4ad4-87cf-fef8dd01adb9\">\n",
              "      <button class=\"colab-df-quickchart\" onclick=\"quickchart('df-379542fe-7bb9-4ad4-87cf-fef8dd01adb9')\"\n",
              "                title=\"Suggest charts\"\n",
              "                style=\"display:none;\">\n",
              "\n",
              "<svg xmlns=\"http://www.w3.org/2000/svg\" height=\"24px\"viewBox=\"0 0 24 24\"\n",
              "     width=\"24px\">\n",
              "    <g>\n",
              "        <path d=\"M19 3H5c-1.1 0-2 .9-2 2v14c0 1.1.9 2 2 2h14c1.1 0 2-.9 2-2V5c0-1.1-.9-2-2-2zM9 17H7v-7h2v7zm4 0h-2V7h2v10zm4 0h-2v-4h2v4z\"/>\n",
              "    </g>\n",
              "</svg>\n",
              "      </button>\n",
              "\n",
              "<style>\n",
              "  .colab-df-quickchart {\n",
              "      --bg-color: #E8F0FE;\n",
              "      --fill-color: #1967D2;\n",
              "      --hover-bg-color: #E2EBFA;\n",
              "      --hover-fill-color: #174EA6;\n",
              "      --disabled-fill-color: #AAA;\n",
              "      --disabled-bg-color: #DDD;\n",
              "  }\n",
              "\n",
              "  [theme=dark] .colab-df-quickchart {\n",
              "      --bg-color: #3B4455;\n",
              "      --fill-color: #D2E3FC;\n",
              "      --hover-bg-color: #434B5C;\n",
              "      --hover-fill-color: #FFFFFF;\n",
              "      --disabled-bg-color: #3B4455;\n",
              "      --disabled-fill-color: #666;\n",
              "  }\n",
              "\n",
              "  .colab-df-quickchart {\n",
              "    background-color: var(--bg-color);\n",
              "    border: none;\n",
              "    border-radius: 50%;\n",
              "    cursor: pointer;\n",
              "    display: none;\n",
              "    fill: var(--fill-color);\n",
              "    height: 32px;\n",
              "    padding: 0;\n",
              "    width: 32px;\n",
              "  }\n",
              "\n",
              "  .colab-df-quickchart:hover {\n",
              "    background-color: var(--hover-bg-color);\n",
              "    box-shadow: 0 1px 2px rgba(60, 64, 67, 0.3), 0 1px 3px 1px rgba(60, 64, 67, 0.15);\n",
              "    fill: var(--button-hover-fill-color);\n",
              "  }\n",
              "\n",
              "  .colab-df-quickchart-complete:disabled,\n",
              "  .colab-df-quickchart-complete:disabled:hover {\n",
              "    background-color: var(--disabled-bg-color);\n",
              "    fill: var(--disabled-fill-color);\n",
              "    box-shadow: none;\n",
              "  }\n",
              "\n",
              "  .colab-df-spinner {\n",
              "    border: 2px solid var(--fill-color);\n",
              "    border-color: transparent;\n",
              "    border-bottom-color: var(--fill-color);\n",
              "    animation:\n",
              "      spin 1s steps(1) infinite;\n",
              "  }\n",
              "\n",
              "  @keyframes spin {\n",
              "    0% {\n",
              "      border-color: transparent;\n",
              "      border-bottom-color: var(--fill-color);\n",
              "      border-left-color: var(--fill-color);\n",
              "    }\n",
              "    20% {\n",
              "      border-color: transparent;\n",
              "      border-left-color: var(--fill-color);\n",
              "      border-top-color: var(--fill-color);\n",
              "    }\n",
              "    30% {\n",
              "      border-color: transparent;\n",
              "      border-left-color: var(--fill-color);\n",
              "      border-top-color: var(--fill-color);\n",
              "      border-right-color: var(--fill-color);\n",
              "    }\n",
              "    40% {\n",
              "      border-color: transparent;\n",
              "      border-right-color: var(--fill-color);\n",
              "      border-top-color: var(--fill-color);\n",
              "    }\n",
              "    60% {\n",
              "      border-color: transparent;\n",
              "      border-right-color: var(--fill-color);\n",
              "    }\n",
              "    80% {\n",
              "      border-color: transparent;\n",
              "      border-right-color: var(--fill-color);\n",
              "      border-bottom-color: var(--fill-color);\n",
              "    }\n",
              "    90% {\n",
              "      border-color: transparent;\n",
              "      border-bottom-color: var(--fill-color);\n",
              "    }\n",
              "  }\n",
              "</style>\n",
              "\n",
              "      <script>\n",
              "        async function quickchart(key) {\n",
              "          const quickchartButtonEl =\n",
              "            document.querySelector('#' + key + ' button');\n",
              "          quickchartButtonEl.disabled = true;  // To prevent multiple clicks.\n",
              "          quickchartButtonEl.classList.add('colab-df-spinner');\n",
              "          try {\n",
              "            const charts = await google.colab.kernel.invokeFunction(\n",
              "                'suggestCharts', [key], {});\n",
              "          } catch (error) {\n",
              "            console.error('Error during call to suggestCharts:', error);\n",
              "          }\n",
              "          quickchartButtonEl.classList.remove('colab-df-spinner');\n",
              "          quickchartButtonEl.classList.add('colab-df-quickchart-complete');\n",
              "        }\n",
              "        (() => {\n",
              "          let quickchartButtonEl =\n",
              "            document.querySelector('#df-379542fe-7bb9-4ad4-87cf-fef8dd01adb9 button');\n",
              "          quickchartButtonEl.style.display =\n",
              "            google.colab.kernel.accessAllowed ? 'block' : 'none';\n",
              "        })();\n",
              "      </script>\n",
              "    </div>\n",
              "\n",
              "    </div>\n",
              "  </div>\n"
            ],
            "application/vnd.google.colaboratory.intrinsic+json": {
              "type": "dataframe",
              "repr_error": "0"
            }
          },
          "metadata": {},
          "execution_count": 7
        }
      ]
    },
    {
      "cell_type": "code",
      "source": [
        "import pandas as pd\n",
        "\n",
        "# Read both CSVs with all data as strings\n",
        "df_dest = pd.read_csv('/content/drive/My Drive/_thesis_dogwhistles/Clean-tweets/left-cleaned-french-tweets.csv', dtype=str, keep_default_na=False)\n",
        "df_source = pd.read_csv('/content/drive/My Drive/_thesis_dogwhistles/Clean-tweets/left-new-cleaned-french-tweets.csv', dtype=str, keep_default_na=False)\n",
        "\n",
        "# Combine both\n",
        "initial_count = len(df_dest) + len(df_source)\n",
        "df_combined = pd.concat([df_dest, df_source], ignore_index=True)\n",
        "\n",
        "# Drop exact duplicates\n",
        "df_deduped = df_combined.drop_duplicates()\n",
        "\n",
        "# Save the deduplicated dataframe back to destination\n",
        "df_deduped.to_csv('/content/drive/My Drive/_thesis_dogwhistles/Clean-tweets/left-cleaned-french-tweets.csv', index=False)\n",
        "\n",
        "# Report how many duplicates were removed\n",
        "duplicates_removed = initial_count - len(df_deduped)\n",
        "print(f\"{duplicates_removed} duplicate rows removed.\")"
      ],
      "metadata": {
        "colab": {
          "base_uri": "https://localhost:8080/"
        },
        "id": "NTflczLzjlqS",
        "outputId": "58c2d31e-8f88-40cc-fb91-9ca89fcaa454"
      },
      "execution_count": null,
      "outputs": [
        {
          "output_type": "stream",
          "name": "stdout",
          "text": [
            "54621 duplicate rows removed.\n"
          ]
        }
      ]
    },
    {
      "cell_type": "code",
      "source": [
        "len(df_source), len(df_dest), len(df_deduped)"
      ],
      "metadata": {
        "colab": {
          "base_uri": "https://localhost:8080/"
        },
        "outputId": "4c27add9-d35a-412a-8959-97f42f0ce173",
        "id": "oicCmKDzrUBY"
      },
      "execution_count": null,
      "outputs": [
        {
          "output_type": "execute_result",
          "data": {
            "text/plain": [
              "(73363, 146493, 165235)"
            ]
          },
          "metadata": {},
          "execution_count": 9
        }
      ]
    },
    {
      "cell_type": "markdown",
      "source": [
        "4. Username stats"
      ],
      "metadata": {
        "id": "6C6toFbiSWN1"
      }
    },
    {
      "cell_type": "code",
      "source": [
        "df = pd.read_csv('/content/drive/My Drive/_thesis_dogwhistles/Clean-tweets/left-cleaned-french-tweets.csv', dtype={'id': str})\n",
        "\n",
        "# Drop missing usernames\n",
        "usernames = df['username'].dropna()\n",
        "\n",
        "# Count unique usernames\n",
        "unique_usernames = usernames.nunique()\n",
        "print(f\"Number of unique usernames: {unique_usernames}\")\n",
        "\n",
        "# Grouping tweets by user and counting them\n",
        "user_tweet_counts = df['username'].value_counts()\n",
        "\n",
        "# Show top N most frequent usernames (adjust N if needed)\n",
        "N = 10\n",
        "print(f\"Top {N} most frequent usernames:\")\n",
        "print(usernames.value_counts().head(N))\n",
        "\n",
        "# Optional: save full list to CSV\n",
        "user_tweet_counts.to_csv('/content/drive/My Drive/_thesis_dogwhistles/Clean-tweets/left_tweet_counts_per_username.csv', header=[\"tweet_count\"])"
      ],
      "metadata": {
        "colab": {
          "base_uri": "https://localhost:8080/"
        },
        "id": "JhtcJQlwSZ0-",
        "outputId": "86b71992-942e-46aa-c042-58f6110af8d1"
      },
      "execution_count": null,
      "outputs": [
        {
          "output_type": "stream",
          "name": "stdout",
          "text": [
            "Number of unique usernames: 3905\n",
            "Top 10 most frequent usernames:\n",
            "username\n",
            "fatnasghr          119\n",
            "gbouniol           119\n",
            "benjaminhue        119\n",
            "ecologistes_eur    118\n",
            "carolinemotte      118\n",
            "deckerbast         118\n",
            "cpiresbeaune       118\n",
            "edwyplenel         117\n",
            "davidperrotin      117\n",
            "ellensalvi         116\n",
            "Name: count, dtype: int64\n"
          ]
        }
      ]
    },
    {
      "cell_type": "code",
      "source": [
        "import pandas as pd\n",
        "import matplotlib.pyplot as plt\n",
        "import seaborn as sns\n",
        "\n",
        "# Optional for better visuals\n",
        "sns.set(style=\"whitegrid\")"
      ],
      "metadata": {
        "id": "D1qmiEKiXBij"
      },
      "execution_count": null,
      "outputs": []
    },
    {
      "cell_type": "code",
      "source": [
        "import matplotlib.ticker as ticker\n",
        "\n",
        "# Load your data (adjust path if needed)\n",
        "file_path = '/content/drive/My Drive/_thesis_dogwhistles/Clean-tweets/left-cleaned-french-tweets.csv'\n",
        "df = pd.read_csv(file_path, dtype={'id': str})\n",
        "\n",
        "# Count tweets per username\n",
        "user_tweet_counts = df['username'].value_counts()\n",
        "\n",
        "# Plot tweet frequency distribution with better formatting\n",
        "plt.figure(figsize=(10, 5))\n",
        "sns.histplot(user_tweet_counts, bins=40, kde=False, color='steelblue')\n",
        "\n",
        "plt.title(\"Distribution of Tweet Counts per Username\", fontsize=14)\n",
        "plt.xlabel(\"Number of Tweets\", fontsize=12)\n",
        "plt.ylabel(\"Number of Users\", fontsize=12)\n",
        "\n",
        "# Turn off scientific notation on x-axis\n",
        "plt.gca().xaxis.set_major_formatter(ticker.ScalarFormatter(useMathText=False))\n",
        "plt.gca().ticklabel_format(style='plain', axis='x')\n",
        "\n",
        "plt.tight_layout()\n",
        "plt.show()"
      ],
      "metadata": {
        "colab": {
          "base_uri": "https://localhost:8080/",
          "height": 501
        },
        "id": "ntXhtUEBXFTw",
        "outputId": "466a3c90-ecd4-4f88-96ef-5c70ca488c9a"
      },
      "execution_count": null,
      "outputs": [
        {
          "output_type": "display_data",
          "data": {
            "text/plain": [
              "<Figure size 1000x500 with 1 Axes>"
            ],
            "image/png": "[encoded data removed]"
          },
          "metadata": {}
        }
      ]
    },
    {
      "cell_type": "markdown",
      "source": [
        "5. Final report"
      ],
      "metadata": {
        "id": "fmbPsW2RXkjK"
      }
    },
    {
      "cell_type": "code",
      "source": [
        "import pandas as pd\n",
        "import spacy\n",
        "\n",
        "# Load spaCy French model\n",
        "nlp = spacy.load(\"fr_core_news_sm\")\n",
        "\n",
        "# Load your dataset\n",
        "file_path = '/content/drive/My Drive/_thesis_dogwhistles/Clean-tweets/left-cleaned-french-tweets.csv'\n",
        "df = pd.read_csv(file_path, dtype={'id': str})\n",
        "\n",
        "# Drop rows with missing content\n",
        "df = df.dropna(subset=['content'])\n",
        "\n",
        "# === Tweet/User Stats ===\n",
        "num_tweets = len(df)\n",
        "num_users = df['username'].nunique()\n",
        "avg_tweets_per_user = num_tweets / num_users if num_users else 0\n",
        "\n",
        "# === Linguistic Stats ===\n",
        "total_tokens = 0\n",
        "word_count = 0\n",
        "content_word_count = 0\n",
        "lemmas = set()\n",
        "\n",
        "# === Process all documents ===\n",
        "for doc in nlp.pipe(df['content'].astype(str), batch_size=1000):\n",
        "    # All non-space tokens\n",
        "    tokens = [token for token in doc if not token.is_space]\n",
        "    total_tokens += len(tokens)\n",
        "\n",
        "    # Words = alphabetic tokens (exclude numbers and punctuation)\n",
        "    words = [token for token in tokens if token.is_alpha]\n",
        "    word_count += len(words)\n",
        "\n",
        "    # Content words = words excluding stopwords, pronouns, determiners\n",
        "    content_words = [\n",
        "        token for token in words\n",
        "        if not token.is_stop and token.pos_ not in {\"PRON\", \"DET\"}\n",
        "    ]\n",
        "    content_word_count += len(content_words)\n",
        "\n",
        "    # Lemmas from words (not content words)\n",
        "    lemmas.update(token.lemma_.lower() for token in words)\n",
        "\n",
        "# Token-to-type ratio (based on total tokens and unique lemmas)\n",
        "token_type_ratio = total_tokens / len(lemmas) if lemmas else 0\n",
        "\n",
        "# === Report ===\n",
        "print(\"===== Tweet/User Stats =====\")\n",
        "print(f\"Total number of tweets: {num_tweets}\")\n",
        "print(f\"Total number of unique users: {num_users}\")\n",
        "print(f\"Average number of tweets per user: {avg_tweets_per_user:.2f}\")\n",
        "\n",
        "print(\"\\n===== Linguistic Stats =====\")\n",
        "print(f\"Total number of tokens (excluding spaces): {total_tokens}\")\n",
        "print(f\"Total number of words (excluding numbers and punctuation): {word_count}\")\n",
        "print(f\"Total number of content words: {content_word_count}\")\n",
        "print(f\"Total number of unique lemmas: {len(lemmas)}\")\n",
        "print(f\"Token-to-type ratio: {token_type_ratio:.2f}\")"
      ],
      "metadata": {
        "colab": {
          "base_uri": "https://localhost:8080/"
        },
        "outputId": "50b860d0-78a2-4201-e920-22773e0bd2a3",
        "id": "Wmac0_4A2lIR"
      },
      "execution_count": null,
      "outputs": [
        {
          "output_type": "stream",
          "name": "stdout",
          "text": [
            "===== Tweet/User Stats =====\n",
            "Total number of tweets: 165235\n",
            "Total number of unique users: 3905\n",
            "Average number of tweets per user: 42.31\n",
            "\n",
            "===== Linguistic Stats =====\n",
            "Total number of tokens (excluding spaces): 3877904\n",
            "Total number of words (excluding numbers and punctuation): 3119164\n",
            "Total number of content words: 1409462\n",
            "Total number of unique lemmas: 74281\n",
            "Token-to-type ratio: 52.21\n"
          ]
        }
      ]
    },
    {
      "cell_type": "markdown",
      "source": [
        "Frequency differences between lemmas of both corpora"
      ],
      "metadata": {
        "id": "66XhL4eU3UeQ"
      }
    },
    {
      "cell_type": "code",
      "source": [
        "# 1. Install necessary packages\n",
        "!pip install -U spacy emoji matplotlib pandas seaborn\n",
        "!python -m spacy download fr_core_news_md\n",
        "\n",
        "# 2. Import libraries\n",
        "import pandas as pd\n",
        "import numpy as np\n",
        "import matplotlib.pyplot as plt\n",
        "import seaborn as sns\n",
        "import emoji\n",
        "import spacy\n",
        "from collections import Counter\n",
        "from math import log2\n",
        "\n",
        "# 3. Load French Spacy model\n",
        "nlp = spacy.load(\"fr_core_news_md\")\n",
        "\n",
        "# 4. Load datasets\n",
        "right_path = \"/content/drive/My Drive/_thesis_dogwhistles/Analyze-tweets/right-cleaned-french-tweets.csv\"\n",
        "left_path = \"/content/drive/My Drive/_thesis_dogwhistles/Analyze-tweets/left-cleaned-french-tweets.csv\"\n",
        "\n",
        "right_df = pd.read_csv(right_path)\n",
        "left_df = pd.read_csv(left_path)\n",
        "\n",
        "# 5. Extract text content\n",
        "right_texts = right_df['content'].dropna().astype(str).tolist()\n",
        "left_texts = left_df['content'].dropna().astype(str).tolist()\n",
        "\n",
        "# 6. Function to lemmatize and include emojis\n",
        "def tokenize_and_lemmatize(texts):\n",
        "    lemma_counter = Counter()\n",
        "    for doc in nlp.pipe(texts, batch_size=100, disable=[\"ner\"]):\n",
        "        for token in doc:\n",
        "            if token.is_alpha or emoji.is_emoji(token.text):\n",
        "                lemma = token.lemma_.lower()\n",
        "                lemma_counter[lemma] += 1\n",
        "    return lemma_counter\n",
        "\n",
        "# 7. Compute lemma frequencies\n",
        "print(\"Processing right corpus...\")\n",
        "right_lemmas = tokenize_and_lemmatize(right_texts)\n",
        "print(\"Processing left corpus...\")\n",
        "left_lemmas = tokenize_and_lemmatize(left_texts)\n",
        "\n",
        "# 8. Create a DataFrame with counts\n",
        "df = pd.DataFrame.from_dict({\n",
        "    'left': left_lemmas,\n",
        "    'right': right_lemmas\n",
        "}, orient='index').fillna(0)\n",
        "\n",
        "df['left'] = df['left'].astype(int)\n",
        "df['right'] = df['right'].astype(int)\n",
        "\n",
        "# 9. Compute log ratio\n",
        "df['log_ratio'] = np.log2((df['left'] + 1) / (df['right'] + 1))\n",
        "\n",
        "# 10. Filter by frequency threshold\n",
        "freq_threshold = 20\n",
        "df_filtered = df[(df['left'] > freq_threshold) | (df['right'] > freq_threshold)]\n",
        "\n",
        "# 11. Sort by absolute log ratio\n",
        "df_filtered['abs_log_ratio'] = df_filtered['log_ratio'].abs()\n",
        "df_sorted = df_filtered.sort_values(by='abs_log_ratio', ascending=False)\n",
        "\n",
        "# 12. Show top 30 most divergent lemmas\n",
        "print(\"Top divergent lemmas:\")\n",
        "print(df_sorted.head(30)[['left', 'right', 'log_ratio']])\n",
        "\n",
        "# 13. Plot frequency distribution\n",
        "plt.figure(figsize=(12, 6))\n",
        "sns.histplot(df_filtered['log_ratio'], bins=100, kde=True, color='purple')\n",
        "plt.title('Distribution of Log Ratios Between Left and Right Tweet Corpora (French)')\n",
        "plt.xlabel('Log2 Ratio (Left / Right)')\n",
        "plt.ylabel('Number of Lemmas')\n",
        "plt.axvline(x=1, color='red', linestyle='--', label='2× more frequent in left')\n",
        "plt.axvline(x=-1, color='blue', linestyle='--', label='2× more frequent in right')\n",
        "plt.legend()\n",
        "plt.grid(True)\n",
        "plt.tight_layout()\n",
        "plt.show()"
      ],
      "metadata": {
        "colab": {
          "base_uri": "https://localhost:8080/",
          "height": 1000
        },
        "id": "4-acY0fH3UDY",
        "outputId": "3796f2f4-bbe1-4c1b-821c-4b599e5c5247"
      },
      "execution_count": null,
      "outputs": [
        {
          "output_type": "stream",
          "name": "stdout",
          "text": [
            "Requirement already satisfied: spacy in /usr/local/lib/python3.11/dist-packages (3.8.7)\n",
            "Requirement already satisfied: emoji in /usr/local/lib/python3.11/dist-packages (2.14.1)\n",
            "Requirement already satisfied: matplotlib in /usr/local/lib/python3.11/dist-packages (3.10.3)\n",
            "Requirement already satisfied: pandas in /usr/local/lib/python3.11/dist-packages (2.2.3)\n",
            "Requirement already satisfied: seaborn in /usr/local/lib/python3.11/dist-packages (0.13.2)\n",
            "Requirement already satisfied: spacy-legacy<3.1.0,>=3.0.11 in /usr/local/lib/python3.11/dist-packages (from spacy) (3.0.12)\n",
            "Requirement already satisfied: spacy-loggers<2.0.0,>=1.0.0 in /usr/local/lib/python3.11/dist-packages (from spacy) (1.0.5)\n",
            "Requirement already satisfied: murmurhash<1.1.0,>=0.28.0 in /usr/local/lib/python3.11/dist-packages (from spacy) (1.0.12)\n",
            "Requirement already satisfied: cymem<2.1.0,>=2.0.2 in /usr/local/lib/python3.11/dist-packages (from spacy) (2.0.11)\n",
            "Requirement already satisfied: preshed<3.1.0,>=3.0.2 in /usr/local/lib/python3.11/dist-packages (from spacy) (3.0.9)\n",
            "Requirement already satisfied: thinc<8.4.0,>=8.3.4 in /usr/local/lib/python3.11/dist-packages (from spacy) (8.3.6)\n",
            "Requirement already satisfied: wasabi<1.2.0,>=0.9.1 in /usr/local/lib/python3.11/dist-packages (from spacy) (1.1.3)\n",
            "Requirement already satisfied: srsly<3.0.0,>=2.4.3 in /usr/local/lib/python3.11/dist-packages (from spacy) (2.5.1)\n",
            "Requirement already satisfied: catalogue<2.1.0,>=2.0.6 in /usr/local/lib/python3.11/dist-packages (from spacy) (2.0.10)\n",
            "Requirement already satisfied: weasel<0.5.0,>=0.1.0 in /usr/local/lib/python3.11/dist-packages (from spacy) (0.4.1)\n",
            "Requirement already satisfied: typer<1.0.0,>=0.3.0 in /usr/local/lib/python3.11/dist-packages (from spacy) (0.15.3)\n",
            "Requirement already satisfied: tqdm<5.0.0,>=4.38.0 in /usr/local/lib/python3.11/dist-packages (from spacy) (4.67.1)\n",
            "Requirement already satisfied: numpy>=1.19.0 in /usr/local/lib/python3.11/dist-packages (from spacy) (2.0.2)\n",
            "Requirement already satisfied: requests<3.0.0,>=2.13.0 in /usr/local/lib/python3.11/dist-packages (from spacy) (2.32.3)\n",
            "Requirement already satisfied: pydantic!=1.8,!=1.8.1,<3.0.0,>=1.7.4 in /usr/local/lib/python3.11/dist-packages (from spacy) (2.11.4)\n",
            "Requirement already satisfied: jinja2 in /usr/local/lib/python3.11/dist-packages (from spacy) (3.1.6)\n",
            "Requirement already satisfied: setuptools in /usr/local/lib/python3.11/dist-packages (from spacy) (75.2.0)\n",
            "Requirement already satisfied: packaging>=20.0 in /usr/local/lib/python3.11/dist-packages (from spacy) (24.2)\n",
            "Requirement already satisfied: langcodes<4.0.0,>=3.2.0 in /usr/local/lib/python3.11/dist-packages (from spacy) (3.5.0)\n",
            "Requirement already satisfied: contourpy>=1.0.1 in /usr/local/lib/python3.11/dist-packages (from matplotlib) (1.3.2)\n",
            "Requirement already satisfied: cycler>=0.10 in /usr/local/lib/python3.11/dist-packages (from matplotlib) (0.12.1)\n",
            "Requirement already satisfied: fonttools>=4.22.0 in /usr/local/lib/python3.11/dist-packages (from matplotlib) (4.58.0)\n",
            "Requirement already satisfied: kiwisolver>=1.3.1 in /usr/local/lib/python3.11/dist-packages (from matplotlib) (1.4.8)\n",
            "Requirement already satisfied: pillow>=8 in /usr/local/lib/python3.11/dist-packages (from matplotlib) (11.2.1)\n",
            "Requirement already satisfied: pyparsing>=2.3.1 in /usr/local/lib/python3.11/dist-packages (from matplotlib) (3.2.3)\n",
            "Requirement already satisfied: python-dateutil>=2.7 in /usr/local/lib/python3.11/dist-packages (from matplotlib) (2.9.0.post0)\n",
            "Requirement already satisfied: pytz>=2020.1 in /usr/local/lib/python3.11/dist-packages (from pandas) (2025.2)\n",
            "Requirement already satisfied: tzdata>=2022.7 in /usr/local/lib/python3.11/dist-packages (from pandas) (2025.2)\n",
            "Requirement already satisfied: language-data>=1.2 in /usr/local/lib/python3.11/dist-packages (from langcodes<4.0.0,>=3.2.0->spacy) (1.3.0)\n",
            "Requirement already satisfied: annotated-types>=0.6.0 in /usr/local/lib/python3.11/dist-packages (from pydantic!=1.8,!=1.8.1,<3.0.0,>=1.7.4->spacy) (0.7.0)\n",
            "Requirement already satisfied: pydantic-core==2.33.2 in /usr/local/lib/python3.11/dist-packages (from pydantic!=1.8,!=1.8.1,<3.0.0,>=1.7.4->spacy) (2.33.2)\n",
            "Requirement already satisfied: typing-extensions>=4.12.2 in /usr/local/lib/python3.11/dist-packages (from pydantic!=1.8,!=1.8.1,<3.0.0,>=1.7.4->spacy) (4.13.2)\n",
            "Requirement already satisfied: typing-inspection>=0.4.0 in /usr/local/lib/python3.11/dist-packages (from pydantic!=1.8,!=1.8.1,<3.0.0,>=1.7.4->spacy) (0.4.0)\n",
            "Requirement already satisfied: six>=1.5 in /usr/local/lib/python3.11/dist-packages (from python-dateutil>=2.7->matplotlib) (1.17.0)\n",
            "Requirement already satisfied: charset-normalizer<4,>=2 in /usr/local/lib/python3.11/dist-packages (from requests<3.0.0,>=2.13.0->spacy) (3.4.2)\n",
            "Requirement already satisfied: idna<4,>=2.5 in /usr/local/lib/python3.11/dist-packages (from requests<3.0.0,>=2.13.0->spacy) (3.10)\n",
            "Requirement already satisfied: urllib3<3,>=1.21.1 in /usr/local/lib/python3.11/dist-packages (from requests<3.0.0,>=2.13.0->spacy) (2.4.0)\n",
            "Requirement already satisfied: certifi>=2017.4.17 in /usr/local/lib/python3.11/dist-packages (from requests<3.0.0,>=2.13.0->spacy) (2025.4.26)\n",
            "Requirement already satisfied: blis<1.4.0,>=1.3.0 in /usr/local/lib/python3.11/dist-packages (from thinc<8.4.0,>=8.3.4->spacy) (1.3.0)\n",
            "Requirement already satisfied: confection<1.0.0,>=0.0.1 in /usr/local/lib/python3.11/dist-packages (from thinc<8.4.0,>=8.3.4->spacy) (0.1.5)\n",
            "Requirement already satisfied: click>=8.0.0 in /usr/local/lib/python3.11/dist-packages (from typer<1.0.0,>=0.3.0->spacy) (8.2.0)\n",
            "Requirement already satisfied: shellingham>=1.3.0 in /usr/local/lib/python3.11/dist-packages (from typer<1.0.0,>=0.3.0->spacy) (1.5.4)\n",
            "Requirement already satisfied: rich>=10.11.0 in /usr/local/lib/python3.11/dist-packages (from typer<1.0.0,>=0.3.0->spacy) (13.9.4)\n",
            "Requirement already satisfied: cloudpathlib<1.0.0,>=0.7.0 in /usr/local/lib/python3.11/dist-packages (from weasel<0.5.0,>=0.1.0->spacy) (0.21.0)\n",
            "Requirement already satisfied: smart-open<8.0.0,>=5.2.1 in /usr/local/lib/python3.11/dist-packages (from weasel<0.5.0,>=0.1.0->spacy) (7.1.0)\n",
            "Requirement already satisfied: MarkupSafe>=2.0 in /usr/local/lib/python3.11/dist-packages (from jinja2->spacy) (3.0.2)\n",
            "Requirement already satisfied: marisa-trie>=1.1.0 in /usr/local/lib/python3.11/dist-packages (from language-data>=1.2->langcodes<4.0.0,>=3.2.0->spacy) (1.2.1)\n",
            "Requirement already satisfied: markdown-it-py>=2.2.0 in /usr/local/lib/python3.11/dist-packages (from rich>=10.11.0->typer<1.0.0,>=0.3.0->spacy) (3.0.0)\n",
            "Requirement already satisfied: pygments<3.0.0,>=2.13.0 in /usr/local/lib/python3.11/dist-packages (from rich>=10.11.0->typer<1.0.0,>=0.3.0->spacy) (2.19.1)\n",
            "Requirement already satisfied: wrapt in /usr/local/lib/python3.11/dist-packages (from smart-open<8.0.0,>=5.2.1->weasel<0.5.0,>=0.1.0->spacy) (1.17.2)\n",
            "Requirement already satisfied: mdurl~=0.1 in /usr/local/lib/python3.11/dist-packages (from markdown-it-py>=2.2.0->rich>=10.11.0->typer<1.0.0,>=0.3.0->spacy) (0.1.2)\n",
            "Collecting fr-core-news-md==3.8.0\n",
            "  Downloading https://github.com/explosion/spacy-models/releases/download/fr_core_news_md-3.8.0/fr_core_news_md-3.8.0-py3-none-any.whl (45.8 MB)\n",
            "\u001b[2K     \u001b[90m━━━━━━━━━━━━━━━━━━━━━━━━━━━━━━━━━━━━━━━━\u001b[0m \u001b[32m45.8/45.8 MB\u001b[0m \u001b[31m13.3 MB/s\u001b[0m eta \u001b[36m0:00:00\u001b[0m\n",
            "\u001b[?25hInstalling collected packages: fr-core-news-md\n",
            "Successfully installed fr-core-news-md-3.8.0\n",
            "\u001b[38;5;2m✔ Download and installation successful\u001b[0m\n",
            "You can now load the package via spacy.load('fr_core_news_md')\n",
            "\u001b[38;5;3m⚠ Restart to reload dependencies\u001b[0m\n",
            "If you are in a Jupyter or Colab notebook, you may need to restart Python in\n",
            "order to load all the package's dependencies. You can do this by selecting the\n",
            "'Restart kernel' or 'Restart runtime' option.\n"
          ]
        },
        {
          "output_type": "error",
          "ename": "FileNotFoundError",
          "evalue": "[Errno 2] No such file or directory: '/content/drive/My Drive/_thesis_dogwhistles/Analyze-tweets/left-cleaned-french-tweets.csv'",
          "traceback": [
            "\u001b[0;31m---------------------------------------------------------------------------\u001b[0m",
            "\u001b[0;31mFileNotFoundError\u001b[0m                         Traceback (most recent call last)",
            "\u001b[0;32m<ipython-input-1-366b872bcb2c>\u001b[0m in \u001b[0;36m<cell line: 0>\u001b[0;34m()\u001b[0m\n\u001b[1;32m     21\u001b[0m \u001b[0;34m\u001b[0m\u001b[0m\n\u001b[1;32m     22\u001b[0m \u001b[0mright_df\u001b[0m \u001b[0;34m=\u001b[0m \u001b[0mpd\u001b[0m\u001b[0;34m.\u001b[0m\u001b[0mread_csv\u001b[0m\u001b[0;34m(\u001b[0m\u001b[0mright_path\u001b[0m\u001b[0;34m)\u001b[0m\u001b[0;34m\u001b[0m\u001b[0;34m\u001b[0m\u001b[0m\n\u001b[0;32m---> 23\u001b[0;31m \u001b[0mleft_df\u001b[0m \u001b[0;34m=\u001b[0m \u001b[0mpd\u001b[0m\u001b[0;34m.\u001b[0m\u001b[0mread_csv\u001b[0m\u001b[0;34m(\u001b[0m\u001b[0mleft_path\u001b[0m\u001b[0;34m)\u001b[0m\u001b[0;34m\u001b[0m\u001b[0;34m\u001b[0m\u001b[0m\n\u001b[0m\u001b[1;32m     24\u001b[0m \u001b[0;34m\u001b[0m\u001b[0m\n\u001b[1;32m     25\u001b[0m \u001b[0;31m# 5. Extract text content\u001b[0m\u001b[0;34m\u001b[0m\u001b[0;34m\u001b[0m\u001b[0m\n",
            "\u001b[0;32m/usr/local/lib/python3.11/dist-packages/pandas/io/parsers/readers.py\u001b[0m in \u001b[0;36mread_csv\u001b[0;34m(filepath_or_buffer, sep, delimiter, header, names, index_col, usecols, dtype, engine, converters, true_values, false_values, skipinitialspace, skiprows, skipfooter, nrows, na_values, keep_default_na, na_filter, verbose, skip_blank_lines, parse_dates, infer_datetime_format, keep_date_col, date_parser, date_format, dayfirst, cache_dates, iterator, chunksize, compression, thousands, decimal, lineterminator, quotechar, quoting, doublequote, escapechar, comment, encoding, encoding_errors, dialect, on_bad_lines, delim_whitespace, low_memory, memory_map, float_precision, storage_options, dtype_backend)\u001b[0m\n\u001b[1;32m   1024\u001b[0m     \u001b[0mkwds\u001b[0m\u001b[0;34m.\u001b[0m\u001b[0mupdate\u001b[0m\u001b[0;34m(\u001b[0m\u001b[0mkwds_defaults\u001b[0m\u001b[0;34m)\u001b[0m\u001b[0;34m\u001b[0m\u001b[0;34m\u001b[0m\u001b[0m\n\u001b[1;32m   1025\u001b[0m \u001b[0;34m\u001b[0m\u001b[0m\n\u001b[0;32m-> 1026\u001b[0;31m     \u001b[0;32mreturn\u001b[0m \u001b[0m_read\u001b[0m\u001b[0;34m(\u001b[0m\u001b[0mfilepath_or_buffer\u001b[0m\u001b[0;34m,\u001b[0m \u001b[0mkwds\u001b[0m\u001b[0;34m)\u001b[0m\u001b[0;34m\u001b[0m\u001b[0;34m\u001b[0m\u001b[0m\n\u001b[0m\u001b[1;32m   1027\u001b[0m \u001b[0;34m\u001b[0m\u001b[0m\n\u001b[1;32m   1028\u001b[0m \u001b[0;34m\u001b[0m\u001b[0m\n",
            "\u001b[0;32m/usr/local/lib/python3.11/dist-packages/pandas/io/parsers/readers.py\u001b[0m in \u001b[0;36m_read\u001b[0;34m(filepath_or_buffer, kwds)\u001b[0m\n\u001b[1;32m    618\u001b[0m \u001b[0;34m\u001b[0m\u001b[0m\n\u001b[1;32m    619\u001b[0m     \u001b[0;31m# Create the parser.\u001b[0m\u001b[0;34m\u001b[0m\u001b[0;34m\u001b[0m\u001b[0m\n\u001b[0;32m--> 620\u001b[0;31m     \u001b[0mparser\u001b[0m \u001b[0;34m=\u001b[0m \u001b[0mTextFileReader\u001b[0m\u001b[0;34m(\u001b[0m\u001b[0mfilepath_or_buffer\u001b[0m\u001b[0;34m,\u001b[0m \u001b[0;34m**\u001b[0m\u001b[0mkwds\u001b[0m\u001b[0;34m)\u001b[0m\u001b[0;34m\u001b[0m\u001b[0;34m\u001b[0m\u001b[0m\n\u001b[0m\u001b[1;32m    621\u001b[0m \u001b[0;34m\u001b[0m\u001b[0m\n\u001b[1;32m    622\u001b[0m     \u001b[0;32mif\u001b[0m \u001b[0mchunksize\u001b[0m \u001b[0;32mor\u001b[0m \u001b[0miterator\u001b[0m\u001b[0;34m:\u001b[0m\u001b[0;34m\u001b[0m\u001b[0;34m\u001b[0m\u001b[0m\n",
            "\u001b[0;32m/usr/local/lib/python3.11/dist-packages/pandas/io/parsers/readers.py\u001b[0m in \u001b[0;36m__init__\u001b[0;34m(self, f, engine, **kwds)\u001b[0m\n\u001b[1;32m   1618\u001b[0m \u001b[0;34m\u001b[0m\u001b[0m\n\u001b[1;32m   1619\u001b[0m         \u001b[0mself\u001b[0m\u001b[0;34m.\u001b[0m\u001b[0mhandles\u001b[0m\u001b[0;34m:\u001b[0m \u001b[0mIOHandles\u001b[0m \u001b[0;34m|\u001b[0m \u001b[0;32mNone\u001b[0m \u001b[0;34m=\u001b[0m \u001b[0;32mNone\u001b[0m\u001b[0;34m\u001b[0m\u001b[0;34m\u001b[0m\u001b[0m\n\u001b[0;32m-> 1620\u001b[0;31m         \u001b[0mself\u001b[0m\u001b[0;34m.\u001b[0m\u001b[0m_engine\u001b[0m \u001b[0;34m=\u001b[0m \u001b[0mself\u001b[0m\u001b[0;34m.\u001b[0m\u001b[0m_make_engine\u001b[0m\u001b[0;34m(\u001b[0m\u001b[0mf\u001b[0m\u001b[0;34m,\u001b[0m \u001b[0mself\u001b[0m\u001b[0;34m.\u001b[0m\u001b[0mengine\u001b[0m\u001b[0;34m)\u001b[0m\u001b[0;34m\u001b[0m\u001b[0;34m\u001b[0m\u001b[0m\n\u001b[0m\u001b[1;32m   1621\u001b[0m \u001b[0;34m\u001b[0m\u001b[0m\n\u001b[1;32m   1622\u001b[0m     \u001b[0;32mdef\u001b[0m \u001b[0mclose\u001b[0m\u001b[0;34m(\u001b[0m\u001b[0mself\u001b[0m\u001b[0;34m)\u001b[0m \u001b[0;34m->\u001b[0m \u001b[0;32mNone\u001b[0m\u001b[0;34m:\u001b[0m\u001b[0;34m\u001b[0m\u001b[0;34m\u001b[0m\u001b[0m\n",
            "\u001b[0;32m/usr/local/lib/python3.11/dist-packages/pandas/io/parsers/readers.py\u001b[0m in \u001b[0;36m_make_engine\u001b[0;34m(self, f, engine)\u001b[0m\n\u001b[1;32m   1878\u001b[0m                 \u001b[0;32mif\u001b[0m \u001b[0;34m\"b\"\u001b[0m \u001b[0;32mnot\u001b[0m \u001b[0;32min\u001b[0m \u001b[0mmode\u001b[0m\u001b[0;34m:\u001b[0m\u001b[0;34m\u001b[0m\u001b[0;34m\u001b[0m\u001b[0m\n\u001b[1;32m   1879\u001b[0m                     \u001b[0mmode\u001b[0m \u001b[0;34m+=\u001b[0m \u001b[0;34m\"b\"\u001b[0m\u001b[0;34m\u001b[0m\u001b[0;34m\u001b[0m\u001b[0m\n\u001b[0;32m-> 1880\u001b[0;31m             self.handles = get_handle(\n\u001b[0m\u001b[1;32m   1881\u001b[0m                 \u001b[0mf\u001b[0m\u001b[0;34m,\u001b[0m\u001b[0;34m\u001b[0m\u001b[0;34m\u001b[0m\u001b[0m\n\u001b[1;32m   1882\u001b[0m                 \u001b[0mmode\u001b[0m\u001b[0;34m,\u001b[0m\u001b[0;34m\u001b[0m\u001b[0;34m\u001b[0m\u001b[0m\n",
            "\u001b[0;32m/usr/local/lib/python3.11/dist-packages/pandas/io/common.py\u001b[0m in \u001b[0;36mget_handle\u001b[0;34m(path_or_buf, mode, encoding, compression, memory_map, is_text, errors, storage_options)\u001b[0m\n\u001b[1;32m    871\u001b[0m         \u001b[0;32mif\u001b[0m \u001b[0mioargs\u001b[0m\u001b[0;34m.\u001b[0m\u001b[0mencoding\u001b[0m \u001b[0;32mand\u001b[0m \u001b[0;34m\"b\"\u001b[0m \u001b[0;32mnot\u001b[0m \u001b[0;32min\u001b[0m \u001b[0mioargs\u001b[0m\u001b[0;34m.\u001b[0m\u001b[0mmode\u001b[0m\u001b[0;34m:\u001b[0m\u001b[0;34m\u001b[0m\u001b[0;34m\u001b[0m\u001b[0m\n\u001b[1;32m    872\u001b[0m             \u001b[0;31m# Encoding\u001b[0m\u001b[0;34m\u001b[0m\u001b[0;34m\u001b[0m\u001b[0m\n\u001b[0;32m--> 873\u001b[0;31m             handle = open(\n\u001b[0m\u001b[1;32m    874\u001b[0m                 \u001b[0mhandle\u001b[0m\u001b[0;34m,\u001b[0m\u001b[0;34m\u001b[0m\u001b[0;34m\u001b[0m\u001b[0m\n\u001b[1;32m    875\u001b[0m                 \u001b[0mioargs\u001b[0m\u001b[0;34m.\u001b[0m\u001b[0mmode\u001b[0m\u001b[0;34m,\u001b[0m\u001b[0;34m\u001b[0m\u001b[0;34m\u001b[0m\u001b[0m\n",
            "\u001b[0;31mFileNotFoundError\u001b[0m: [Errno 2] No such file or directory: '/content/drive/My Drive/_thesis_dogwhistles/Analyze-tweets/left-cleaned-french-tweets.csv'"
          ]
        }
      ]
    }
  ]
}