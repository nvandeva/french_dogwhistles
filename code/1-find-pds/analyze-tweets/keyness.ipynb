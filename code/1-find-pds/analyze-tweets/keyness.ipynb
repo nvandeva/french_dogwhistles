{
  "nbformat": 4,
  "nbformat_minor": 0,
  "metadata": {
    "colab": {
      "provenance": []
    },
    "kernelspec": {
      "name": "python3",
      "display_name": "Python 3"
    },
    "language_info": {
      "name": "python"
    }
  },
  "cells": [
    {
      "cell_type": "code",
      "execution_count": null,
      "metadata": {
        "colab": {
          "base_uri": "https://localhost:8080/"
        },
        "id": "Jv-Q_YqYB3lu",
        "outputId": "8b7f998b-2786-4b62-8f6e-c1ac9d60dcbc"
      },
      "outputs": [
        {
          "output_type": "stream",
          "name": "stdout",
          "text": [
            "Drive already mounted at /content/drive; to attempt to forcibly remount, call drive.mount(\"/content/drive\", force_remount=True).\n"
          ]
        }
      ],
      "source": [
        "from google.colab import drive\n",
        "drive.mount('/content/drive')"
      ]
    },
    {
      "cell_type": "code",
      "source": [
        "import pandas as pd\n",
        "import numpy as np\n",
        "\n",
        "def calculate_log_likelihood(row):\n",
        "    \"\"\"\n",
        "    Calculates the Log-Likelihood keyness for a row of a DataFrame.\n",
        "    The row must contain n_c1, n_c2, total_words_c1, and total_words_c2.\n",
        "    \"\"\"\n",
        "    # Create the 2x2 contingency table from the row's data\n",
        "    # O11: Freq of word in Ideological Corpus (c2)\n",
        "    # O12: Freq of word in Neutral Corpus (c1)\n",
        "    # O21: Freq of other words in Ideological Corpus (c2)\n",
        "    # O22: Freq of other words in Neutral Corpus (c1)\n",
        "    o11 = row['n_c2']\n",
        "    o12 = row['n_c1']\n",
        "    o21 = row['total_words_c2'] - o11\n",
        "    o22 = row['total_words_c1'] - o12\n",
        "\n",
        "    # Calculate row and column totals\n",
        "    r1 = o11 + o12\n",
        "    r2 = o21 + o22\n",
        "    c1 = o11 + o21  # This is total_words_c2\n",
        "    c2 = o12 + o22  # This is total_words_c1\n",
        "    n = r1 + r2      # Grand total words\n",
        "\n",
        "    # Calculate expected frequencies\n",
        "    e11 = (c1 * r1) / n\n",
        "    e12 = (c2 * r1) / n\n",
        "    e21 = (c1 * r2) / n\n",
        "    e22 = (c2 * r2) / n\n",
        "\n",
        "    # Calculate Log-Likelihood score term by term\n",
        "    # We check if observed is 0, if so, the contribution is 0\n",
        "    term1 = o11 * np.log(o11 / e11) if o11 > 0 else 0\n",
        "    term2 = o12 * np.log(o12 / e12) if o12 > 0 else 0\n",
        "    term3 = o21 * np.log(o21 / e21) if o21 > 0 else 0\n",
        "    term4 = o22 * np.log(o22 / e22) if o22 > 0 else 0\n",
        "\n",
        "    ll_score = 2 * (term1 + term2 + term3 + term4)\n",
        "    return ll_score\n",
        "\n",
        "# --- Main script ---\n",
        "# Replace 'your_file.csv' with the actual path to your file\n",
        "file_path = '/content/drive/MyDrive/_thesis_dogwhistles/Cosine-distance-stats/keyness/keyness-analysis.csv'\n",
        "\n",
        "try:\n",
        "    # Read the data into a DataFrame\n",
        "    df = pd.read_csv(file_path)\n",
        "\n",
        "    # Apply the function to each row to calculate keyness\n",
        "    df['keyness'] = df.apply(calculate_log_likelihood, axis=1)\n",
        "\n",
        "    # Sort the DataFrame by keyness in descending order\n",
        "    df_sorted = df.sort_values(by='keyness', ascending=False)\n",
        "\n",
        "    # Display the results\n",
        "    print(\"🔑 Keyness Calculation Results\")\n",
        "    print(\"-\" * 40)\n",
        "    # Displaying relevant columns for clarity\n",
        "    print(df_sorted[['target', 'n_c1', 'n_c2', 'keyness', 'log2_ratio']].round(2))\n",
        "    print(\"-\" * 40)\n",
        "    print(\"\\nTip: A higher keyness score indicates a more statistically significant difference.\")\n",
        "\n",
        "except FileNotFoundError:\n",
        "    print(f\"❌ Error: The file was not found at '{file_path}'. Please check the path and try again.\")\n",
        "except KeyError as e:\n",
        "    print(f\"❌ Error: The CSV is missing a required column: {e}. Please check your file's headers.\")"
      ],
      "metadata": {
        "colab": {
          "base_uri": "https://localhost:8080/"
        },
        "id": "Q7JfjRe4B8p1",
        "outputId": "75fafdfa-a866-45dd-f301-ac7c5fa46778"
      },
      "execution_count": null,
      "outputs": [
        {
          "output_type": "stream",
          "name": "stdout",
          "text": [
            "🔑 Keyness Calculation Results\n",
            "----------------------------------------\n",
            "                target  n_c1  n_c2  keyness  log2_ratio\n",
            "17        civilisation    59   378   252.14       -2.66\n",
            "16             wokisme    78   243    85.02       -1.63\n",
            "14              racine    55   192    77.14       -1.79\n",
            "15                woke    79   200    51.34       -1.33\n",
            "13              déclin    37   121    45.01       -1.68\n",
            "11           décadence    26    92    37.53       -1.78\n",
            "5      civilisationnel     5    46    36.99       -2.97\n",
            "8              wokiste    19    73    32.52       -1.89\n",
            "7   quartier populaire    56    13    29.94        2.03\n",
            "10          biologique    30    85    26.08       -1.47\n",
            "2         enracinement     2    26    23.82       -3.17\n",
            "20          antisémite   610   796    20.33       -0.38\n",
            "1            orwellien     1    12    10.70       -2.70\n",
            "12   droits des femmes    75    48     6.66        0.63\n",
            "4               orwell    13    28     5.26       -1.05\n",
            "6     classe populaire    39    22     5.23        0.80\n",
            "9            génétique    46    56     0.75       -0.28\n",
            "3             dystopie    12    17     0.75       -0.47\n",
            "18            fascisme   254   242     0.66        0.07\n",
            "19            fasciste   402   419     0.06       -0.06\n",
            "0             enraciné     1     1     0.00        0.00\n",
            "----------------------------------------\n",
            "\n",
            "Tip: A higher keyness score indicates a more statistically significant difference.\n"
          ]
        }
      ]
    },
    {
      "cell_type": "code",
      "source": [
        "from google.colab import files\n",
        "\n",
        "# Assuming your final DataFrame is named df_sorted\n",
        "df_sorted.to_csv('keyness_dw.csv', index=False)\n",
        "\n",
        "# This line triggers the download\n",
        "files.download('keyness_dw.csv')"
      ],
      "metadata": {
        "colab": {
          "base_uri": "https://localhost:8080/"
        },
        "id": "Ez_kUfApDt3p",
        "outputId": "8741e2df-20e3-4321-97eb-b37f640510ec"
      },
      "execution_count": null,
      "outputs": [
        {
          "output_type": "display_data",
          "data": {
            "text/plain": [
              "<IPython.core.display.Javascript object>"
            ],
            "application/javascript": [
              "\n",
              "    async function download(id, filename, size) {\n",
              "      if (!google.colab.kernel.accessAllowed) {\n",
              "        return;\n",
              "      }\n",
              "      const div = document.createElement('div');\n",
              "      const label = document.createElement('label');\n",
              "      label.textContent = `Downloading \"${filename}\": `;\n",
              "      div.appendChild(label);\n",
              "      const progress = document.createElement('progress');\n",
              "      progress.max = size;\n",
              "      div.appendChild(progress);\n",
              "      document.body.appendChild(div);\n",
              "\n",
              "      const buffers = [];\n",
              "      let downloaded = 0;\n",
              "\n",
              "      const channel = await google.colab.kernel.comms.open(id);\n",
              "      // Send a message to notify the kernel that we're ready.\n",
              "      channel.send({})\n",
              "\n",
              "      for await (const message of channel.messages) {\n",
              "        // Send a message to notify the kernel that we're ready.\n",
              "        channel.send({})\n",
              "        if (message.buffers) {\n",
              "          for (const buffer of message.buffers) {\n",
              "            buffers.push(buffer);\n",
              "            downloaded += buffer.byteLength;\n",
              "            progress.value = downloaded;\n",
              "          }\n",
              "        }\n",
              "      }\n",
              "      const blob = new Blob(buffers, {type: 'application/binary'});\n",
              "      const a = document.createElement('a');\n",
              "      a.href = window.URL.createObjectURL(blob);\n",
              "      a.download = filename;\n",
              "      div.appendChild(a);\n",
              "      a.click();\n",
              "      div.remove();\n",
              "    }\n",
              "  "
            ]
          },
          "metadata": {}
        },
        {
          "output_type": "display_data",
          "data": {
            "text/plain": [
              "<IPython.core.display.Javascript object>"
            ],
            "application/javascript": [
              "download(\"download_170de4b2-5333-4831-9bee-040032576507\", \"keyness_dw.csv\", 2709)"
            ]
          },
          "metadata": {}
        }
      ]
    }
  ]
}