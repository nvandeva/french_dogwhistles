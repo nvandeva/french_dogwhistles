{
  "nbformat": 4,
  "nbformat_minor": 0,
  "metadata": {
    "colab": {
      "provenance": []
    },
    "kernelspec": {
      "name": "python3",
      "display_name": "Python 3"
    },
    "language_info": {
      "name": "python"
    }
  },
  "cells": [
    {
      "cell_type": "markdown",
      "source": [
        "0. **Only keep French tweets**"
      ],
      "metadata": {
        "id": "OuP8yWoM-9JM"
      }
    },
    {
      "cell_type": "code",
      "source": [
        "from google.colab import drive\n",
        "drive.mount('/content/drive')"
      ],
      "metadata": {
        "colab": {
          "base_uri": "https://localhost:8080/"
        },
        "id": "-vjDBLH04EnD",
        "outputId": "ccc0e2a1-3788-42e4-b92e-45a8b11a633c"
      },
      "execution_count": null,
      "outputs": [
        {
          "output_type": "stream",
          "name": "stdout",
          "text": [
            "Mounted at /content/drive\n"
          ]
        }
      ]
    },
    {
      "cell_type": "code",
      "source": [
        "# Only keep French tweets\n",
        "!pip install -q langdetect\n",
        "from langdetect import detect, DetectorFactory\n",
        "DetectorFactory.seed = 42  # Make results deterministic"
      ],
      "metadata": {
        "id": "4d3DdT3rGdvf",
        "colab": {
          "base_uri": "https://localhost:8080/"
        },
        "outputId": "7025ed18-fda8-45d7-ad86-2111c455f895"
      },
      "execution_count": null,
      "outputs": [
        {
          "output_type": "stream",
          "name": "stdout",
          "text": [
            "\u001b[?25l     \u001b[90m━━━━━━━━━━━━━━━━━━━━━━━━━━━━━━━━━━━━━━━━\u001b[0m \u001b[32m0.0/981.5 kB\u001b[0m \u001b[31m?\u001b[0m eta \u001b[36m-:--:--\u001b[0m\r\u001b[2K     \u001b[91m━━━━━━\u001b[0m\u001b[90m╺\u001b[0m\u001b[90m━━━━━━━━━━━━━━━━━━━━━━━━━━━━━━━━\u001b[0m \u001b[32m153.6/981.5 kB\u001b[0m \u001b[31m4.4 MB/s\u001b[0m eta \u001b[36m0:00:01\u001b[0m\r\u001b[2K     \u001b[91m━━━━━━━━━━━━━━━━━━━━━━━━━━━━━━\u001b[0m\u001b[91m╸\u001b[0m\u001b[90m━━━━━━━\u001b[0m \u001b[32m788.5/981.5 kB\u001b[0m \u001b[31m10.7 MB/s\u001b[0m eta \u001b[36m0:00:01\u001b[0m\r\u001b[2K     \u001b[90m━━━━━━━━━━━━━━━━━━━━━━━━━━━━━━━━━━━━━━━\u001b[0m \u001b[32m981.5/981.5 kB\u001b[0m \u001b[31m9.8 MB/s\u001b[0m eta \u001b[36m0:00:00\u001b[0m\n",
            "\u001b[?25h  Preparing metadata (setup.py) ... \u001b[?25l\u001b[?25hdone\n",
            "  Building wheel for langdetect (setup.py) ... \u001b[?25l\u001b[?25hdone\n"
          ]
        }
      ]
    },
    {
      "cell_type": "code",
      "source": [
        "def is_french_langdetect(text):\n",
        "    try:\n",
        "        return detect(str(text)) == 'fr'\n",
        "    except:\n",
        "        return False  # Skip unrecognizable text"
      ],
      "metadata": {
        "id": "tTvEeCtcIkkl"
      },
      "execution_count": null,
      "outputs": []
    },
    {
      "cell_type": "code",
      "source": [
        "import pandas as pd\n",
        "\n",
        "# Set file path\n",
        "file_path = '/content/drive/My Drive/_thesis_dogwhistles/Clean-tweets/new_left_10462.csv'\n",
        "\n",
        "# Load CSV and ensure 'id' is string\n",
        "df = pd.read_csv(file_path, dtype={'id': str})\n",
        "df = df.dropna(subset=['content'])\n",
        "\n",
        "# Count before\n",
        "total_before = len(df)\n",
        "\n",
        "# Filter French tweets using langdetect\n",
        "df_fr = df[df['content'].apply(is_french_langdetect)].reset_index(drop=True)\n",
        "\n",
        "# Count after\n",
        "total_after = len(df_fr)\n",
        "removed = total_before - total_after\n",
        "percentage_removed = (removed / total_before) * 100\n",
        "\n",
        "# Show summary\n",
        "print(f\"Total tweets before filtering: {total_before}\")\n",
        "print(f\"Total tweets after filtering: {total_after}\")\n",
        "print(f\"Tweets removed: {removed} ({percentage_removed:.2f}%)\")\n",
        "\n",
        "# Show sample\n",
        "if len(df_fr) > 0:\n",
        "    print(\"\\nSample of 5 French tweets:\")\n",
        "    print(df_fr['content'].sample(5, random_state=42).to_string(index=False))\n",
        "else:\n",
        "    print(\"⚠️ No French tweets detected.\")\n",
        "\n",
        "# Save result\n",
        "output_path = '/content/drive/My Drive/_thesis_dogwhistles/Clean-tweets/left-new-french-tweets.csv'\n",
        "df_fr.to_csv(output_path, index=False)\n",
        "print(f\"\\n✅ French tweets saved to: {output_path}\")"
      ],
      "metadata": {
        "colab": {
          "base_uri": "https://localhost:8080/"
        },
        "id": "oj_8rXjkI0Af",
        "outputId": "064d45aa-f9b4-4f32-8f66-a2cef46472ac"
      },
      "execution_count": null,
      "outputs": [
        {
          "output_type": "stream",
          "name": "stdout",
          "text": [
            "Total tweets before filtering: 100635\n",
            "Total tweets after filtering: 73793\n",
            "Tweets removed: 26842 (26.67%)\n",
            "\n",
            "Sample of 5 French tweets:\n",
            "         @Perrette56 Merci beaucoup c'est gentil 😘\n",
            "Adios le \"spécialiste des penaltys\" ...🤡\\n#Merc...\n",
            "@ArSaint_Martin @EmilieHaon Un grand nombre de ...\n",
            "    @RemikenzoPages tout ça c’est grâce à l’AJAR😝🩷\n",
            "             #QuelleEpoque https://t.co/kaV5QSKBYS\n",
            "\n",
            "✅ French tweets saved to: /content/drive/My Drive/_thesis_dogwhistles/Clean-tweets/left-new-french-tweets.csv\n"
          ]
        }
      ]
    },
    {
      "cell_type": "markdown",
      "source": [
        "1. Define function"
      ],
      "metadata": {
        "id": "P11LqNcG-KT1"
      }
    },
    {
      "cell_type": "markdown",
      "source": [
        "\n",
        "* Remove URLs\n",
        "* Remove @usernames\n",
        "* Remove leading #\n",
        "* Normalize whitespace\n",
        "* Lowercase\n",
        "* Save clean CSV"
      ],
      "metadata": {
        "id": "3YGzSnzA907z"
      }
    },
    {
      "cell_type": "code",
      "source": [
        "import pandas as pd\n",
        "import re\n",
        "\n",
        "def clean_text(text):\n",
        "    text = str(text)\n",
        "    text = re.sub(r'http\\S+|www\\S+|https\\S+', '', text)          # Remove URLs\n",
        "    text = re.sub(r'@\\w+', '', text)                             # Remove @usernames\n",
        "    text = re.sub(r'#(\\w+)', r'\\1', text)                        # Remove leading #\n",
        "    text = re.sub(r'\\s+', ' ', text).strip()                     # Normalize whitespace\n",
        "    text = text.lower()                                          # Lowercase text\n",
        "\n",
        "    return text\n",
        "\n",
        "def clean_tweets(input_path, output_path):\n",
        "    # Load CSV\n",
        "    df = pd.read_csv(input_path, dtype={'id': str})\n",
        "\n",
        "    # Remove rows where 'content' is missing\n",
        "    df = df.dropna(subset=['content'])\n",
        "\n",
        "    # Apply cleaning function\n",
        "    df['content'] = df['content'].apply(clean_text)\n",
        "\n",
        "    # Remove empty content rows again\n",
        "    df = df[df['content'].str.strip() != '']\n",
        "\n",
        "    # Output info\n",
        "    print(f\"Remaining rows: {len(df)}\")\n",
        "    total_tokens = df['content'].str.split().str.len().sum()\n",
        "    print(f\"Total number of tokens: {total_tokens}\")\n",
        "\n",
        "    # Save cleaned file\n",
        "    df.to_csv(output_path, index=False)\n",
        "\n",
        "    return df"
      ],
      "metadata": {
        "id": "dzO9bOtg8JMM"
      },
      "execution_count": null,
      "outputs": []
    },
    {
      "cell_type": "markdown",
      "source": [
        "2. Call function"
      ],
      "metadata": {
        "id": "nmLgAbjQ-Rx3"
      }
    },
    {
      "cell_type": "code",
      "source": [
        "# 🧹 Run your existing cleaning function\n",
        "cleaned_df = clean_tweets('/content/drive/My Drive/_thesis_dogwhistles/Clean-tweets/left-new-french-tweets.csv', '/content/drive/My Drive/_thesis_dogwhistles/Clean-tweets/left-new-cleaned-french-tweets.csv') # output file will still be in /content"
      ],
      "metadata": {
        "colab": {
          "base_uri": "https://localhost:8080/"
        },
        "id": "78-_0ybQ33jd",
        "outputId": "bc5421c5-b37c-4ae3-f3b8-1c28299553d9"
      },
      "execution_count": null,
      "outputs": [
        {
          "output_type": "stream",
          "name": "stdout",
          "text": [
            "Remaining rows: 73363\n",
            "Total number of tokens: 1478776\n"
          ]
        }
      ]
    },
    {
      "cell_type": "code",
      "source": [
        "# inspect random samples\n",
        "\n",
        "import pandas as pd\n",
        "\n",
        "# Load the final cleaned file\n",
        "df = pd.read_csv('/content/drive/My Drive/_thesis_dogwhistles/Clean-tweets/left-new-cleaned-french-tweets.csv', dtype={'id': str})\n",
        "\n",
        "# Check basic info\n",
        "print(f\"Loaded {df.shape[0]} tweets.\")\n",
        "print(\"Column names:\", df.columns.tolist())\n",
        "\n",
        "# Show 5 random tweets\n",
        "df.sample(5, random_state=645)"
      ],
      "metadata": {
        "colab": {
          "base_uri": "https://localhost:8080/",
          "height": 328
        },
        "id": "oAqz5r2U2jaE",
        "outputId": "99986614-80c1-497b-c229-00f1d663b71f"
      },
      "execution_count": null,
      "outputs": [
        {
          "output_type": "stream",
          "name": "stdout",
          "text": [
            "Loaded 73363 tweets.\n",
            "Column names: ['id', 'username', 'content', 'created_at', 'has_photo', 'has_video', 'is_response']\n"
          ]
        },
        {
          "output_type": "execute_result",
          "data": {
            "text/plain": [
              "                        id        username  \\\n",
              "40520  1922360567337017841          naovic   \n",
              "7620   1914032513820787174       sbr_colin   \n",
              "46860  1808918253340590258      david73490   \n",
              "18542  1921146354799087666  brion_isabelle   \n",
              "30469  1845577278652096856    danielladu35   \n",
              "\n",
              "                                                 content  \\\n",
              "40520  pourquoi tu la suit t’es masochiste. et en plu...   \n",
              "7620   si moueffek pouvait être régulier. si seulemen...   \n",
              "46860                vous nagez vraiment en plein délire   \n",
              "18542  comment va carotte ? et comment va son binôme ...   \n",
              "30469  l’hypocrisie de ce mode de vie marketé sur les...   \n",
              "\n",
              "                      created_at  has_photo  has_video  is_response  \n",
              "40520  2025-05-13 18:37:29+00:00      False      False         True  \n",
              "7620   2025-04-20 19:04:46+00:00      False      False        False  \n",
              "46860  2024-07-04 17:38:14+00:00      False      False         True  \n",
              "18542  2025-05-10 10:12:38+00:00      False      False         True  \n",
              "30469  2024-10-13 21:28:07+00:00      False      False        False  "
            ],
            "text/html": [
              "\n",
              "  <div id=\"df-80d77a33-364f-4df3-9afd-b94cac5ae3b3\" class=\"colab-df-container\">\n",
              "    <div>\n",
              "<style scoped>\n",
              "    .dataframe tbody tr th:only-of-type {\n",
              "        vertical-align: middle;\n",
              "    }\n",
              "\n",
              "    .dataframe tbody tr th {\n",
              "        vertical-align: top;\n",
              "    }\n",
              "\n",
              "    .dataframe thead th {\n",
              "        text-align: right;\n",
              "    }\n",
              "</style>\n",
              "<table border=\"1\" class=\"dataframe\">\n",
              "  <thead>\n",
              "    <tr style=\"text-align: right;\">\n",
              "      <th></th>\n",
              "      <th>id</th>\n",
              "      <th>username</th>\n",
              "      <th>content</th>\n",
              "      <th>created_at</th>\n",
              "      <th>has_photo</th>\n",
              "      <th>has_video</th>\n",
              "      <th>is_response</th>\n",
              "    </tr>\n",
              "  </thead>\n",
              "  <tbody>\n",
              "    <tr>\n",
              "      <th>40520</th>\n",
              "      <td>1922360567337017841</td>\n",
              "      <td>naovic</td>\n",
              "      <td>pourquoi tu la suit t’es masochiste. et en plu...</td>\n",
              "      <td>2025-05-13 18:37:29+00:00</td>\n",
              "      <td>False</td>\n",
              "      <td>False</td>\n",
              "      <td>True</td>\n",
              "    </tr>\n",
              "    <tr>\n",
              "      <th>7620</th>\n",
              "      <td>1914032513820787174</td>\n",
              "      <td>sbr_colin</td>\n",
              "      <td>si moueffek pouvait être régulier. si seulemen...</td>\n",
              "      <td>2025-04-20 19:04:46+00:00</td>\n",
              "      <td>False</td>\n",
              "      <td>False</td>\n",
              "      <td>False</td>\n",
              "    </tr>\n",
              "    <tr>\n",
              "      <th>46860</th>\n",
              "      <td>1808918253340590258</td>\n",
              "      <td>david73490</td>\n",
              "      <td>vous nagez vraiment en plein délire</td>\n",
              "      <td>2024-07-04 17:38:14+00:00</td>\n",
              "      <td>False</td>\n",
              "      <td>False</td>\n",
              "      <td>True</td>\n",
              "    </tr>\n",
              "    <tr>\n",
              "      <th>18542</th>\n",
              "      <td>1921146354799087666</td>\n",
              "      <td>brion_isabelle</td>\n",
              "      <td>comment va carotte ? et comment va son binôme ...</td>\n",
              "      <td>2025-05-10 10:12:38+00:00</td>\n",
              "      <td>False</td>\n",
              "      <td>False</td>\n",
              "      <td>True</td>\n",
              "    </tr>\n",
              "    <tr>\n",
              "      <th>30469</th>\n",
              "      <td>1845577278652096856</td>\n",
              "      <td>danielladu35</td>\n",
              "      <td>l’hypocrisie de ce mode de vie marketé sur les...</td>\n",
              "      <td>2024-10-13 21:28:07+00:00</td>\n",
              "      <td>False</td>\n",
              "      <td>False</td>\n",
              "      <td>False</td>\n",
              "    </tr>\n",
              "  </tbody>\n",
              "</table>\n",
              "</div>\n",
              "    <div class=\"colab-df-buttons\">\n",
              "\n",
              "  <div class=\"colab-df-container\">\n",
              "    <button class=\"colab-df-convert\" onclick=\"convertToInteractive('df-80d77a33-364f-4df3-9afd-b94cac5ae3b3')\"\n",
              "            title=\"Convert this dataframe to an interactive table.\"\n",
              "            style=\"display:none;\">\n",
              "\n",
              "  <svg xmlns=\"http://www.w3.org/2000/svg\" height=\"24px\" viewBox=\"0 -960 960 960\">\n",
              "    <path d=\"M120-120v-720h720v720H120Zm60-500h600v-160H180v160Zm220 220h160v-160H400v160Zm0 220h160v-160H400v160ZM180-400h160v-160H180v160Zm440 0h160v-160H620v160ZM180-180h160v-160H180v160Zm440 0h160v-160H620v160Z\"/>\n",
              "  </svg>\n",
              "    </button>\n",
              "\n",
              "  <style>\n",
              "    .colab-df-container {\n",
              "      display:flex;\n",
              "      gap: 12px;\n",
              "    }\n",
              "\n",
              "    .colab-df-convert {\n",
              "      background-color: #E8F0FE;\n",
              "      border: none;\n",
              "      border-radius: 50%;\n",
              "      cursor: pointer;\n",
              "      display: none;\n",
              "      fill: #1967D2;\n",
              "      height: 32px;\n",
              "      padding: 0 0 0 0;\n",
              "      width: 32px;\n",
              "    }\n",
              "\n",
              "    .colab-df-convert:hover {\n",
              "      background-color: #E2EBFA;\n",
              "      box-shadow: 0px 1px 2px rgba(60, 64, 67, 0.3), 0px 1px 3px 1px rgba(60, 64, 67, 0.15);\n",
              "      fill: #174EA6;\n",
              "    }\n",
              "\n",
              "    .colab-df-buttons div {\n",
              "      margin-bottom: 4px;\n",
              "    }\n",
              "\n",
              "    [theme=dark] .colab-df-convert {\n",
              "      background-color: #3B4455;\n",
              "      fill: #D2E3FC;\n",
              "    }\n",
              "\n",
              "    [theme=dark] .colab-df-convert:hover {\n",
              "      background-color: #434B5C;\n",
              "      box-shadow: 0px 1px 3px 1px rgba(0, 0, 0, 0.15);\n",
              "      filter: drop-shadow(0px 1px 2px rgba(0, 0, 0, 0.3));\n",
              "      fill: #FFFFFF;\n",
              "    }\n",
              "  </style>\n",
              "\n",
              "    <script>\n",
              "      const buttonEl =\n",
              "        document.querySelector('#df-80d77a33-364f-4df3-9afd-b94cac5ae3b3 button.colab-df-convert');\n",
              "      buttonEl.style.display =\n",
              "        google.colab.kernel.accessAllowed ? 'block' : 'none';\n",
              "\n",
              "      async function convertToInteractive(key) {\n",
              "        const element = document.querySelector('#df-80d77a33-364f-4df3-9afd-b94cac5ae3b3');\n",
              "        const dataTable =\n",
              "          await google.colab.kernel.invokeFunction('convertToInteractive',\n",
              "                                                    [key], {});\n",
              "        if (!dataTable) return;\n",
              "\n",
              "        const docLinkHtml = 'Like what you see? Visit the ' +\n",
              "          '<a target=\"_blank\" href=https://colab.research.google.com/notebooks/data_table.ipynb>data table notebook</a>'\n",
              "          + ' to learn more about interactive tables.';\n",
              "        element.innerHTML = '';\n",
              "        dataTable['output_type'] = 'display_data';\n",
              "        await google.colab.output.renderOutput(dataTable, element);\n",
              "        const docLink = document.createElement('div');\n",
              "        docLink.innerHTML = docLinkHtml;\n",
              "        element.appendChild(docLink);\n",
              "      }\n",
              "    </script>\n",
              "  </div>\n",
              "\n",
              "\n",
              "    <div id=\"df-379542fe-7bb9-4ad4-87cf-fef8dd01adb9\">\n",
              "      <button class=\"colab-df-quickchart\" onclick=\"quickchart('df-379542fe-7bb9-4ad4-87cf-fef8dd01adb9')\"\n",
              "                title=\"Suggest charts\"\n",
              "                style=\"display:none;\">\n",
              "\n",
              "<svg xmlns=\"http://www.w3.org/2000/svg\" height=\"24px\"viewBox=\"0 0 24 24\"\n",
              "     width=\"24px\">\n",
              "    <g>\n",
              "        <path d=\"M19 3H5c-1.1 0-2 .9-2 2v14c0 1.1.9 2 2 2h14c1.1 0 2-.9 2-2V5c0-1.1-.9-2-2-2zM9 17H7v-7h2v7zm4 0h-2V7h2v10zm4 0h-2v-4h2v4z\"/>\n",
              "    </g>\n",
              "</svg>\n",
              "      </button>\n",
              "\n",
              "<style>\n",
              "  .colab-df-quickchart {\n",
              "      --bg-color: #E8F0FE;\n",
              "      --fill-color: #1967D2;\n",
              "      --hover-bg-color: #E2EBFA;\n",
              "      --hover-fill-color: #174EA6;\n",
              "      --disabled-fill-color: #AAA;\n",
              "      --disabled-bg-color: #DDD;\n",
              "  }\n",
              "\n",
              "  [theme=dark] .colab-df-quickchart {\n",
              "      --bg-color: #3B4455;\n",
              "      --fill-color: #D2E3FC;\n",
              "      --hover-bg-color: #434B5C;\n",
              "      --hover-fill-color: #FFFFFF;\n",
              "      --disabled-bg-color: #3B4455;\n",
              "      --disabled-fill-color: #666;\n",
              "  }\n",
              "\n",
              "  .colab-df-quickchart {\n",
              "    background-color: var(--bg-color);\n",
              "    border: none;\n",
              "    border-radius: 50%;\n",
              "    cursor: pointer;\n",
              "    display: none;\n",
              "    fill: var(--fill-color);\n",
              "    height: 32px;\n",
              "    padding: 0;\n",
              "    width: 32px;\n",
              "  }\n",
              "\n",
              "  .colab-df-quickchart:hover {\n",
              "    background-color: var(--hover-bg-color);\n",
              "    box-shadow: 0 1px 2px rgba(60, 64, 67, 0.3), 0 1px 3px 1px rgba(60, 64, 67, 0.15);\n",
              "    fill: var(--button-hover-fill-color);\n",
              "  }\n",
              "\n",
              "  .colab-df-quickchart-complete:disabled,\n",
              "  .colab-df-quickchart-complete:disabled:hover {\n",
              "    background-color: var(--disabled-bg-color);\n",
              "    fill: var(--disabled-fill-color);\n",
              "    box-shadow: none;\n",
              "  }\n",
              "\n",
              "  .colab-df-spinner {\n",
              "    border: 2px solid var(--fill-color);\n",
              "    border-color: transparent;\n",
              "    border-bottom-color: var(--fill-color);\n",
              "    animation:\n",
              "      spin 1s steps(1) infinite;\n",
              "  }\n",
              "\n",
              "  @keyframes spin {\n",
              "    0% {\n",
              "      border-color: transparent;\n",
              "      border-bottom-color: var(--fill-color);\n",
              "      border-left-color: var(--fill-color);\n",
              "    }\n",
              "    20% {\n",
              "      border-color: transparent;\n",
              "      border-left-color: var(--fill-color);\n",
              "      border-top-color: var(--fill-color);\n",
              "    }\n",
              "    30% {\n",
              "      border-color: transparent;\n",
              "      border-left-color: var(--fill-color);\n",
              "      border-top-color: var(--fill-color);\n",
              "      border-right-color: var(--fill-color);\n",
              "    }\n",
              "    40% {\n",
              "      border-color: transparent;\n",
              "      border-right-color: var(--fill-color);\n",
              "      border-top-color: var(--fill-color);\n",
              "    }\n",
              "    60% {\n",
              "      border-color: transparent;\n",
              "      border-right-color: var(--fill-color);\n",
              "    }\n",
              "    80% {\n",
              "      border-color: transparent;\n",
              "      border-right-color: var(--fill-color);\n",
              "      border-bottom-color: var(--fill-color);\n",
              "    }\n",
              "    90% {\n",
              "      border-color: transparent;\n",
              "      border-bottom-color: var(--fill-color);\n",
              "    }\n",
              "  }\n",
              "</style>\n",
              "\n",
              "      <script>\n",
              "        async function quickchart(key) {\n",
              "          const quickchartButtonEl =\n",
              "            document.querySelector('#' + key + ' button');\n",
              "          quickchartButtonEl.disabled = true;  // To prevent multiple clicks.\n",
              "          quickchartButtonEl.classList.add('colab-df-spinner');\n",
              "          try {\n",
              "            const charts = await google.colab.kernel.invokeFunction(\n",
              "                'suggestCharts', [key], {});\n",
              "          } catch (error) {\n",
              "            console.error('Error during call to suggestCharts:', error);\n",
              "          }\n",
              "          quickchartButtonEl.classList.remove('colab-df-spinner');\n",
              "          quickchartButtonEl.classList.add('colab-df-quickchart-complete');\n",
              "        }\n",
              "        (() => {\n",
              "          let quickchartButtonEl =\n",
              "            document.querySelector('#df-379542fe-7bb9-4ad4-87cf-fef8dd01adb9 button');\n",
              "          quickchartButtonEl.style.display =\n",
              "            google.colab.kernel.accessAllowed ? 'block' : 'none';\n",
              "        })();\n",
              "      </script>\n",
              "    </div>\n",
              "\n",
              "    </div>\n",
              "  </div>\n"
            ],
            "application/vnd.google.colaboratory.intrinsic+json": {
              "type": "dataframe",
              "repr_error": "0"
            }
          },
          "metadata": {},
          "execution_count": 7
        }
      ]
    }
  ]
}